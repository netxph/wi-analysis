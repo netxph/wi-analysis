{
 "cells": [
  {
   "cell_type": "markdown",
   "metadata": {},
   "source": [
    "# APO TFS - Extract Fields"
   ]
  },
  {
   "cell_type": "code",
   "execution_count": null,
   "metadata": {},
   "outputs": [],
   "source": [
    "import json\n",
    "import pandas as pd\n",
    "import numpy as np"
   ]
  },
  {
   "cell_type": "markdown",
   "metadata": {},
   "source": [
    "## Work Items - Old"
   ]
  },
  {
   "cell_type": "markdown",
   "metadata": {},
   "source": [
    "### Work Items"
   ]
  },
  {
   "cell_type": "code",
   "execution_count": null,
   "metadata": {},
   "outputs": [],
   "source": [
    "with open('.raw/wi_full.json', 'r') as wi_json:\n",
    "    wi = json.load(wi_json)\n",
    "\n",
    "wi['workItems'][:1]"
   ]
  },
  {
   "cell_type": "code",
   "execution_count": null,
   "metadata": {},
   "outputs": [],
   "source": [
    "wi_list = []\n",
    "for item in wi['workItems']:\n",
    "        \n",
    "    wi_list.append({ \\\n",
    "        'id' : item['id'], \\\n",
    "        'title' : item['fields']['System.Title'], \\\n",
    "        'assigned_to' : item['fields']['System.AssignedTo'] if 'System.AssignedTo' in item['fields'] else np.NaN, \\\n",
    "        'last_state' : item['fields']['System.State'], \\\n",
    "        'created_date' : item['fields']['System.CreatedDate'], \\\n",
    "        'iteration_path' : item['fields']['System.IterationPath'], \\\n",
    "        'workitem_type' : item['fields']['System.WorkItemType'], \\\n",
    "        'estimate' : item['fields']['Microsoft.VSTS.Scheduling.OriginalEstimate'] if 'Microsoft.VSTS.Scheduling.OriginalEstimate' in item['fields'] else np.NaN})\n",
    "\n",
    "    \n",
    "work_items = pd.DataFrame.from_dict(wi_list)\n",
    "work_items.head()"
   ]
  },
  {
   "cell_type": "code",
   "execution_count": null,
   "metadata": {},
   "outputs": [],
   "source": [
    "work_items.to_csv('workitems.csv', index = False)"
   ]
  },
  {
   "cell_type": "markdown",
   "metadata": {},
   "source": [
    "### Revisions"
   ]
  },
  {
   "cell_type": "code",
   "execution_count": null,
   "metadata": {},
   "outputs": [],
   "source": [
    "with open('.raw/rev_full.json', 'r') as rev_json:\n",
    "    rev = json.load(rev_json)"
   ]
  },
  {
   "cell_type": "code",
   "execution_count": null,
   "metadata": {},
   "outputs": [],
   "source": [
    "rev_list = []\n",
    "\n",
    "for item in rev['workItems']:\n",
    "    for r in item['value']:\n",
    "        rev_list.append({ \\\n",
    "            'id' : r['id'], \\\n",
    "            'revision' : r['rev'], \\\n",
    "            'state' : r['fields']['System.State'], \\\n",
    "            'changed_date': r['fields']['System.ChangedDate'], \\\n",
    "            'assigned_to' : r['fields']['System.AssignedTo'] if 'System.AssignedTo' in r['fields'] else np.NaN,\n",
    "            'kanban' : r['fields']['WEF_7056509AB89346C587C57C1EF279A4E5_Kanban.Column'] if 'WEF_7056509AB89346C587C57C1EF279A4E5_Kanban.Column' in r['fields'] else np.NaN })\n",
    "    \n",
    "revisions = pd.DataFrame.from_dict(rev_list)\n",
    "revisions.head()"
   ]
  },
  {
   "cell_type": "code",
   "execution_count": null,
   "metadata": {},
   "outputs": [],
   "source": [
    "revisions.to_csv('revisions.csv', index = False)"
   ]
  },
  {
   "cell_type": "markdown",
   "metadata": {},
   "source": [
    "## Work Items - New"
   ]
  },
  {
   "cell_type": "markdown",
   "metadata": {},
   "source": [
    "### Work Items"
   ]
  },
  {
   "cell_type": "code",
   "execution_count": null,
   "metadata": {},
   "outputs": [],
   "source": [
    "with open('.raw/wi_full2.json', 'r') as wi_json:\n",
    "    wi2 = json.load(wi_json)\n",
    "\n",
    "wi2['workItems'][:1]"
   ]
  },
  {
   "cell_type": "code",
   "execution_count": null,
   "metadata": {},
   "outputs": [],
   "source": [
    "wi_list = []\n",
    "for item in wi2['workItems']:\n",
    "        \n",
    "    wi_list.append({ \\\n",
    "        'id' : item['id'], \\\n",
    "        'title' : item['fields']['System.Title'], \\\n",
    "        'assigned_to' : item['fields']['System.AssignedTo'] if 'System.AssignedTo' in item['fields'] else np.NaN, \\\n",
    "        'last_state' : item['fields']['System.State'], \\\n",
    "        'created_date' : item['fields']['System.CreatedDate'], \\\n",
    "        'iteration_path' : item['fields']['System.IterationPath'], \\\n",
    "        'workitem_type' : item['fields']['System.WorkItemType'], \\\n",
    "        'estimate' : item['fields']['Microsoft.VSTS.Scheduling.Effort'] if 'Microsoft.VSTS.Scheduling.Effort' in item['fields'] else np.NaN})\n",
    "\n",
    "    \n",
    "work_items2 = pd.DataFrame.from_dict(wi_list)\n",
    "work_items2.head()"
   ]
  },
  {
   "cell_type": "code",
   "execution_count": null,
   "metadata": {},
   "outputs": [],
   "source": [
    "work_items2.to_csv('workitems2.csv', index = False)"
   ]
  },
  {
   "cell_type": "markdown",
   "metadata": {},
   "source": [
    "### Revisions"
   ]
  },
  {
   "cell_type": "code",
   "execution_count": null,
   "metadata": {},
   "outputs": [],
   "source": [
    "with open('.raw/rev_full2.json', 'r') as rev_json:\n",
    "    rev2 = json.load(rev_json)\n",
    "    \n",
    "rev2['workItems'][:1]"
   ]
  },
  {
   "cell_type": "code",
   "execution_count": null,
   "metadata": {},
   "outputs": [],
   "source": [
    "rev_list = []\n",
    "\n",
    "for item in rev2['workItems']:\n",
    "    for r in item['value']:\n",
    "        rev_list.append({ \\\n",
    "            'id' : r['id'], \\\n",
    "            'revision' : r['rev'], \\\n",
    "            'state' : r['fields']['System.State'], \\\n",
    "            'changed_date': r['fields']['System.ChangedDate'], \\\n",
    "            'assigned_to' : r['fields']['System.AssignedTo'] if 'System.AssignedTo' in r['fields'] else np.NaN,\n",
    "            'kanban' : r['fields']['WEF_AA4341EE0D22474EB54FED602976CDE7_Kanban.Column'] if 'WEF_AA4341EE0D22474EB54FED602976CDE7_Kanban.Column' in r['fields'] else np.NaN })\n",
    "    \n",
    "revisions2 = pd.DataFrame.from_dict(rev_list)\n",
    "revisions2.head()"
   ]
  },
  {
   "cell_type": "code",
   "execution_count": null,
   "metadata": {},
   "outputs": [],
   "source": [
    "revisions2.to_csv('revisions2.csv', index = False)"
   ]
  }
 ],
 "metadata": {
  "kernelspec": {
   "display_name": "Python 3",
   "language": "python",
   "name": "python3"
  },
  "language_info": {
   "codemirror_mode": {
    "name": "ipython",
    "version": 3
   },
   "file_extension": ".py",
   "mimetype": "text/x-python",
   "name": "python",
   "nbconvert_exporter": "python",
   "pygments_lexer": "ipython3",
   "version": "3.7.3"
  }
 },
 "nbformat": 4,
 "nbformat_minor": 2
}
