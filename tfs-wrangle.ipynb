{
 "cells": [
  {
   "cell_type": "markdown",
   "metadata": {},
   "source": [
    "# APO Work Items - Wrangle"
   ]
  },
  {
   "cell_type": "code",
   "execution_count": null,
   "metadata": {},
   "outputs": [],
   "source": [
    "import pandas as pd\n",
    "import numpy as np\n",
    "import matplotlib.pyplot as plt\n",
    "\n",
    "%matplotlib inline"
   ]
  },
  {
   "cell_type": "markdown",
   "metadata": {},
   "source": [
    "## Assess"
   ]
  },
  {
   "cell_type": "markdown",
   "metadata": {},
   "source": [
    "### Workitems"
   ]
  },
  {
   "cell_type": "code",
   "execution_count": null,
   "metadata": {},
   "outputs": [],
   "source": [
    "workitems = pd.read_csv('workitems.csv')\n",
    "workitems.head()"
   ]
  },
  {
   "cell_type": "code",
   "execution_count": null,
   "metadata": {},
   "outputs": [],
   "source": [
    "workitems.info()"
   ]
  },
  {
   "cell_type": "code",
   "execution_count": null,
   "metadata": {},
   "outputs": [],
   "source": [
    "workitems.created_date = pd.to_datetime(workitems.created_date)\n",
    "\n",
    "workitems.info()"
   ]
  },
  {
   "cell_type": "code",
   "execution_count": null,
   "metadata": {},
   "outputs": [],
   "source": [
    "workitems.estimate.hist()"
   ]
  },
  {
   "cell_type": "code",
   "execution_count": null,
   "metadata": {},
   "outputs": [],
   "source": [
    "workitems[['created_date', 'estimate']].describe(include = 'all')"
   ]
  },
  {
   "cell_type": "code",
   "execution_count": null,
   "metadata": {},
   "outputs": [],
   "source": [
    "workitems[workitems.id.duplicated()]"
   ]
  },
  {
   "cell_type": "code",
   "execution_count": null,
   "metadata": {},
   "outputs": [],
   "source": [
    "workitems[workitems.estimate == 0]"
   ]
  },
  {
   "cell_type": "code",
   "execution_count": null,
   "metadata": {},
   "outputs": [],
   "source": [
    "workitems[workitems.estimate > 50]"
   ]
  },
  {
   "cell_type": "code",
   "execution_count": null,
   "metadata": {},
   "outputs": [],
   "source": [
    "workitems.last_state.value_counts()"
   ]
  },
  {
   "cell_type": "code",
   "execution_count": null,
   "metadata": {},
   "outputs": [],
   "source": [
    "workitems.workitem_type.value_counts()"
   ]
  },
  {
   "cell_type": "code",
   "execution_count": null,
   "metadata": {},
   "outputs": [],
   "source": [
    "workitems.iteration_path.value_counts().sort_index()"
   ]
  },
  {
   "cell_type": "code",
   "execution_count": null,
   "metadata": {},
   "outputs": [],
   "source": [
    "workitems[workitems.iteration_path.str.contains('Queue')]"
   ]
  },
  {
   "cell_type": "code",
   "execution_count": null,
   "metadata": {},
   "outputs": [],
   "source": [
    "workitems.assigned_to.value_counts()"
   ]
  },
  {
   "cell_type": "code",
   "execution_count": null,
   "metadata": {},
   "outputs": [],
   "source": [
    "workitems[workitems.assigned_to.isna()]"
   ]
  },
  {
   "cell_type": "markdown",
   "metadata": {},
   "source": [
    "### Revisions"
   ]
  },
  {
   "cell_type": "code",
   "execution_count": null,
   "metadata": {},
   "outputs": [],
   "source": [
    "revisions = pd.read_csv('revisions.csv')"
   ]
  },
  {
   "cell_type": "code",
   "execution_count": null,
   "metadata": {},
   "outputs": [],
   "source": [
    "revisions.info()"
   ]
  },
  {
   "cell_type": "code",
   "execution_count": null,
   "metadata": {},
   "outputs": [],
   "source": [
    "revisions.describe()"
   ]
  },
  {
   "cell_type": "code",
   "execution_count": null,
   "metadata": {},
   "outputs": [],
   "source": [
    "revisions.head()"
   ]
  },
  {
   "cell_type": "code",
   "execution_count": null,
   "metadata": {},
   "outputs": [],
   "source": [
    "revisions.id.nunique()"
   ]
  },
  {
   "cell_type": "code",
   "execution_count": null,
   "metadata": {},
   "outputs": [],
   "source": [
    "revisions[revisions.id == 1733729]"
   ]
  },
  {
   "cell_type": "code",
   "execution_count": null,
   "metadata": {},
   "outputs": [],
   "source": [
    "revisions[revisions.id == 887472]"
   ]
  },
  {
   "cell_type": "code",
   "execution_count": null,
   "metadata": {},
   "outputs": [],
   "source": [
    "revisions[revisions.state == 'Active'][['id', 'state']].nunique()"
   ]
  },
  {
   "cell_type": "markdown",
   "metadata": {},
   "source": [
    "#### Notes\n",
    "\n",
    "**Quality**\n",
    "\n",
    "* zero estimates\n",
    "* missing assigned_to\n",
    "* simplify assigned_to\n",
    "* non standard workitem types\n",
    "* remove rows with last_state not closed or resolved\n",
    "* simplify assigned_to in revisions\n",
    "* workitems in queue are included\n",
    "* workitems assigned to not part of the team\n",
    "* workitems not passed to active state\n",
    "* revisions has multiple duplicate states\n",
    "\n",
    "**Tidiness**\n",
    "\n",
    "* extract dates from iteration path\n",
    "* remove created date in workitems and replace it with what in revisions\n",
    "* remove assigned to in workitems and replace it with what in revisions\n",
    "* add important states on workitems\n"
   ]
  },
  {
   "cell_type": "markdown",
   "metadata": {},
   "source": [
    "## Clean"
   ]
  },
  {
   "cell_type": "code",
   "execution_count": null,
   "metadata": {},
   "outputs": [],
   "source": [
    "workitems_clean = workitems.copy()\n",
    "revisions_clean = revisions.copy()"
   ]
  },
  {
   "cell_type": "markdown",
   "metadata": {},
   "source": [
    "### Quality"
   ]
  },
  {
   "cell_type": "markdown",
   "metadata": {},
   "source": [
    "#### Zero Estimates\n",
    "\n",
    "*Set Zero Estimates to np.NaN*"
   ]
  },
  {
   "cell_type": "markdown",
   "metadata": {},
   "source": [
    "Zero estimates means no effort, and it's impossible to have them. Set them to `np.NaN`"
   ]
  },
  {
   "cell_type": "markdown",
   "metadata": {},
   "source": [
    "**Code**"
   ]
  },
  {
   "cell_type": "code",
   "execution_count": null,
   "metadata": {},
   "outputs": [],
   "source": [
    "workitems_clean.loc[workitems_clean.estimate == 0, 'estimate'] = np.NaN"
   ]
  },
  {
   "cell_type": "markdown",
   "metadata": {},
   "source": [
    "**Test**"
   ]
  },
  {
   "cell_type": "code",
   "execution_count": null,
   "metadata": {},
   "outputs": [],
   "source": [
    "workitems_clean.estimate.value_counts()"
   ]
  },
  {
   "cell_type": "code",
   "execution_count": null,
   "metadata": {
    "scrolled": true
   },
   "outputs": [],
   "source": [
    "workitems_clean.info()"
   ]
  },
  {
   "cell_type": "code",
   "execution_count": null,
   "metadata": {
    "scrolled": true
   },
   "outputs": [],
   "source": [
    "workitems_clean.estimate.hist(bins=50)"
   ]
  },
  {
   "cell_type": "markdown",
   "metadata": {},
   "source": [
    "#### Non standard workitem types\n",
    "*Standardize naming for work item types*\n",
    "\n",
    "Names are different from the first part of work items and the second part, to standardize name we need to change:\n",
    "* Change Request -> Story"
   ]
  },
  {
   "cell_type": "markdown",
   "metadata": {},
   "source": [
    "**Code**"
   ]
  },
  {
   "cell_type": "code",
   "execution_count": null,
   "metadata": {},
   "outputs": [],
   "source": [
    "workitems_clean.loc[workitems_clean.workitem_type == 'Change Request', 'workitem_type']  = 'Story'"
   ]
  },
  {
   "cell_type": "markdown",
   "metadata": {},
   "source": [
    "**Test**"
   ]
  },
  {
   "cell_type": "code",
   "execution_count": null,
   "metadata": {},
   "outputs": [],
   "source": [
    "workitems_clean.workitem_type.value_counts()"
   ]
  },
  {
   "cell_type": "markdown",
   "metadata": {},
   "source": [
    "#### Workitems rows with last_state not closed or resolved\n",
    "\n",
    "*Remove last_state rows not closed or resolved* "
   ]
  },
  {
   "cell_type": "markdown",
   "metadata": {},
   "source": [
    "**Code**"
   ]
  },
  {
   "cell_type": "code",
   "execution_count": null,
   "metadata": {},
   "outputs": [],
   "source": [
    "workitems_clean = workitems_clean[workitems_clean.last_state.isin(['Closed', 'Resolved'])]"
   ]
  },
  {
   "cell_type": "markdown",
   "metadata": {},
   "source": [
    "**Test**"
   ]
  },
  {
   "cell_type": "code",
   "execution_count": null,
   "metadata": {},
   "outputs": [],
   "source": [
    "workitems_clean.last_state.value_counts()"
   ]
  },
  {
   "cell_type": "markdown",
   "metadata": {},
   "source": [
    "#### Workitems in queue are included\n",
    "\n",
    "*There workitems that are in Queue or Backlog in iteration path. Those means that they are not worked on therefore we need to delete them*"
   ]
  },
  {
   "cell_type": "markdown",
   "metadata": {},
   "source": [
    "**Code**"
   ]
  },
  {
   "cell_type": "code",
   "execution_count": null,
   "metadata": {},
   "outputs": [],
   "source": [
    "workitems_clean[workitems_clean.iteration_path.str.contains('Queue') | workitems_clean.iteration_path.str.contains('Backlog') ]"
   ]
  },
  {
   "cell_type": "code",
   "execution_count": null,
   "metadata": {},
   "outputs": [],
   "source": [
    "workitems_clean = workitems_clean[~(workitems_clean.iteration_path.str.contains('Queue') | workitems_clean.iteration_path.str.contains('Backlog'))]"
   ]
  },
  {
   "cell_type": "markdown",
   "metadata": {},
   "source": [
    "**Test**"
   ]
  },
  {
   "cell_type": "code",
   "execution_count": null,
   "metadata": {},
   "outputs": [],
   "source": [
    "len(workitems_clean[workitems_clean.iteration_path.str.contains('Queue') | workitems_clean.iteration_path.str.contains('Backlog')])"
   ]
  },
  {
   "cell_type": "code",
   "execution_count": null,
   "metadata": {},
   "outputs": [],
   "source": [
    "workitems_clean.info()"
   ]
  },
  {
   "cell_type": "markdown",
   "metadata": {},
   "source": [
    "#### `assigned_to` in revisions can be simplified for consistency\n",
    "*Extract the user id as it is simple and consistent to reduce error during analysis*"
   ]
  },
  {
   "cell_type": "markdown",
   "metadata": {},
   "source": [
    "**Code**"
   ]
  },
  {
   "cell_type": "code",
   "execution_count": null,
   "metadata": {},
   "outputs": [],
   "source": [
    "pat = r'.*<\\bCORP\\b\\\\(?P<assigned_to>\\w+)>'\n",
    "revisions_clean.assigned_to = revisions_clean.assigned_to.str.extract(pat = pat)"
   ]
  },
  {
   "cell_type": "markdown",
   "metadata": {},
   "source": [
    "**Test**"
   ]
  },
  {
   "cell_type": "code",
   "execution_count": null,
   "metadata": {},
   "outputs": [],
   "source": [
    "revisions_clean.assigned_to.value_counts()"
   ]
  },
  {
   "cell_type": "markdown",
   "metadata": {},
   "source": [
    "#### Revisions has 2 confusing states, `kanban` and `states`\n",
    "*Standardize state by merging them, then, map to the following*\n",
    "* if same kanban and state, just simplify them\n",
    "* if state > kanban, follow state\n",
    "* if kanban < state, follow kanban\n",
    "\n",
    "*However, during analysis, we might be better just use `state` and discard `kanban`*"
   ]
  },
  {
   "cell_type": "markdown",
   "metadata": {},
   "source": [
    "**Code**"
   ]
  },
  {
   "cell_type": "code",
   "execution_count": null,
   "metadata": {},
   "outputs": [],
   "source": [
    "(revisions_clean[~revisions_clean['kanban'].isna()].kanban + ' - ' + revisions_clean[~revisions_clean['kanban'].isna()].state).unique()"
   ]
  },
  {
   "cell_type": "code",
   "execution_count": null,
   "metadata": {},
   "outputs": [],
   "source": [
    "revisions_clean.drop(['kanban'], axis = 1, inplace=True)"
   ]
  },
  {
   "cell_type": "markdown",
   "metadata": {},
   "source": [
    "**Test**"
   ]
  },
  {
   "cell_type": "code",
   "execution_count": null,
   "metadata": {},
   "outputs": [],
   "source": [
    "revisions_clean.head()"
   ]
  },
  {
   "cell_type": "markdown",
   "metadata": {},
   "source": [
    "#### Revisions has multiple state value\n",
    "*Remove duplicates following these rules:*\n",
    "* `Proposed`, `Active` - Get only the first\n",
    "* `Resolved`, `Closed`, `Moved` - Get only the last"
   ]
  },
  {
   "cell_type": "markdown",
   "metadata": {},
   "source": [
    "**Code**"
   ]
  },
  {
   "cell_type": "code",
   "execution_count": null,
   "metadata": {},
   "outputs": [],
   "source": [
    "revisions_clean.changed_date = pd.to_datetime(revisions_clean.changed_date)"
   ]
  },
  {
   "cell_type": "code",
   "execution_count": null,
   "metadata": {},
   "outputs": [],
   "source": [
    "start_state = revisions_clean[revisions_clean.state.isin(['Active', 'Proposed'])].groupby(['id', 'state'])['changed_date'].min().reset_index().sort_values(by = ['changed_date'])\n",
    "print(len(start_state))\n",
    "start_state = pd.merge(revisions_clean, start_state, on = ['id', 'state', 'changed_date'])\n",
    "start_state.head()"
   ]
  },
  {
   "cell_type": "code",
   "execution_count": null,
   "metadata": {},
   "outputs": [],
   "source": [
    "end_state = revisions_clean[revisions_clean.state.isin(['Resolved', 'Closed', 'Moved'])].groupby(['id', 'state'])['changed_date'].max().reset_index().sort_values(by = ['changed_date'])\n",
    "print(len(end_state))\n",
    "end_state = pd.merge(revisions_clean, end_state, on = ['id', 'state', 'changed_date'])\n",
    "end_state.head(10)"
   ]
  },
  {
   "cell_type": "code",
   "execution_count": null,
   "metadata": {},
   "outputs": [],
   "source": [
    "revisions_clean = pd.concat([start_state, end_state], ignore_index=True, sort=False)\n",
    "revisions_clean = revisions_clean.sort_values(['id','changed_date']).reset_index(drop=True)"
   ]
  },
  {
   "cell_type": "markdown",
   "metadata": {},
   "source": [
    "**Test**"
   ]
  },
  {
   "cell_type": "code",
   "execution_count": null,
   "metadata": {},
   "outputs": [],
   "source": [
    "revisions_clean"
   ]
  },
  {
   "cell_type": "code",
   "execution_count": null,
   "metadata": {},
   "outputs": [],
   "source": [
    "revisions_clean[revisions_clean.id == 797499]"
   ]
  },
  {
   "cell_type": "code",
   "execution_count": null,
   "metadata": {},
   "outputs": [],
   "source": [
    "revisions[revisions.id == 797499]"
   ]
  },
  {
   "cell_type": "markdown",
   "metadata": {},
   "source": [
    "### Tidiness"
   ]
  },
  {
   "cell_type": "markdown",
   "metadata": {},
   "source": [
    "#### Remove columns retrievable from revisions\n",
    "\n",
    "*remove the columns, `assigned_to`, `created_date`, `last_state`*"
   ]
  },
  {
   "cell_type": "markdown",
   "metadata": {},
   "source": [
    "**Code**"
   ]
  },
  {
   "cell_type": "code",
   "execution_count": null,
   "metadata": {},
   "outputs": [],
   "source": [
    "workitems_clean = workitems_clean[['id', 'workitem_type', 'estimate', 'iteration_path', 'title']]"
   ]
  },
  {
   "cell_type": "markdown",
   "metadata": {},
   "source": [
    "**Test**"
   ]
  },
  {
   "cell_type": "code",
   "execution_count": null,
   "metadata": {},
   "outputs": [],
   "source": [
    "workitems_clean.info()"
   ]
  },
  {
   "cell_type": "code",
   "execution_count": null,
   "metadata": {},
   "outputs": [],
   "source": [
    "workitems_clean.head()"
   ]
  },
  {
   "cell_type": "markdown",
   "metadata": {},
   "source": [
    "#### Dates in iteration path\n",
    "\n",
    "*Extract dates in iteration path and move them to `iter_year`, `iter_num`, `iter_start` and `iter_end`*"
   ]
  },
  {
   "cell_type": "markdown",
   "metadata": {},
   "source": [
    "**Code**"
   ]
  },
  {
   "cell_type": "code",
   "execution_count": null,
   "metadata": {},
   "outputs": [],
   "source": [
    "workitems_clean.iteration_path.value_counts()"
   ]
  },
  {
   "cell_type": "code",
   "execution_count": null,
   "metadata": {},
   "outputs": [],
   "source": [
    "#workitems.iteration_path.str.extract(r'NCA\\\\APO\\\\(?P<iter_year>\\d{4})\\\\Iteration\\s(?P<iter>\\d+)\\s\\((?P<iter_startday>\\d+)(?P<iter_startmon>\\w{3})-(?P<iter_endday>\\d+)(?P<iter_endmon>\\w{3})\\)')\n",
    "workitems_clean[['iteration_path']] = workitems_clean.iteration_path.str.replace(r'NCA\\\\*', '', regex = True)\n",
    "workitems_clean[['iteration_path']] = workitems_clean.iteration_path.str.replace(r'APO\\\\*', '', regex = True)\n",
    "workitems_clean.head()"
   ]
  },
  {
   "cell_type": "code",
   "execution_count": null,
   "metadata": {},
   "outputs": [],
   "source": [
    "pat = r'^(?P<year>\\d+)'\n",
    "workitems_clean[['year']] = workitems_clean.iteration_path.str.extract(pat)\n",
    "rep = r'^\\d+\\\\*'\n",
    "workitems_clean[['iteration_path']] = workitems_clean.iteration_path.str.replace(rep, '')\n",
    "workitems_clean[['iteration_path', 'year']]"
   ]
  },
  {
   "cell_type": "code",
   "execution_count": null,
   "metadata": {},
   "outputs": [],
   "source": [
    "rep = r'^Iteration\\s'\n",
    "workitems_clean[['iteration_path']] = workitems_clean.iteration_path.str.replace(rep, '')"
   ]
  },
  {
   "cell_type": "code",
   "execution_count": null,
   "metadata": {},
   "outputs": [],
   "source": [
    "rep = r'^\\d\\.\\d+\\\\Sprint\\s'\n",
    "workitems_clean[['iteration_path']] = workitems_clean.iteration_path.str.replace(rep, '')"
   ]
  },
  {
   "cell_type": "code",
   "execution_count": null,
   "metadata": {},
   "outputs": [],
   "source": [
    "workitems_clean.loc[workitems_clean.iteration_path == '1.12', 'iteration_path'] = ''"
   ]
  },
  {
   "cell_type": "code",
   "execution_count": null,
   "metadata": {},
   "outputs": [],
   "source": [
    "pat = r'^(?P<sprint>\\d+)(?:\\s*\\((?P<start_day>\\d+)\\s*(?P<start_month>[a-zA-Z]+)(?:\\s*-*\\s*(?P<end_day>\\d+)-*(?P<end_month>[a-zA-Z]+))*)*'\n",
    "workitems_clean[['sprint', 'start_day', 'start_month', 'end_day', 'end_month']] = workitems_clean.iteration_path.str.extract(pat)"
   ]
  },
  {
   "cell_type": "code",
   "execution_count": null,
   "metadata": {},
   "outputs": [],
   "source": [
    "workitems_clean.drop(['iteration_path'], axis = 1, inplace=True)"
   ]
  },
  {
   "cell_type": "markdown",
   "metadata": {},
   "source": [
    "**Test**"
   ]
  },
  {
   "cell_type": "code",
   "execution_count": null,
   "metadata": {},
   "outputs": [],
   "source": [
    "workitems_clean.head()"
   ]
  },
  {
   "cell_type": "code",
   "execution_count": null,
   "metadata": {},
   "outputs": [],
   "source": [
    "workitems_clean.info()"
   ]
  },
  {
   "cell_type": "markdown",
   "metadata": {},
   "source": [
    "#### Title not analysis friendly\n",
    "\n",
    "*Tokenize the title and remove articles from the title and store it as comma delimited list*"
   ]
  },
  {
   "cell_type": "markdown",
   "metadata": {},
   "source": [
    "**Code**"
   ]
  },
  {
   "cell_type": "code",
   "execution_count": null,
   "metadata": {},
   "outputs": [],
   "source": [
    "workitems_clean.title = workitems_clean.title.str.replace('\\[.*\\]', '')"
   ]
  },
  {
   "cell_type": "code",
   "execution_count": null,
   "metadata": {},
   "outputs": [],
   "source": [
    "def cat(words):\n",
    "    forbidden = ['the', 'can', 'for', 'not', 'out', 'and', 'for', 'all', 'must', 'are', 'does', 'more', 'has', 'only', 'how', 'when', 'should', 'from']\n",
    "    result = [word for word in words if len(word) > 2 and word not in forbidden]\n",
    "    result.sort()\n",
    "    result = np.unique(result)\n",
    "    return \",\".join(result)\n",
    "    \n",
    "workitems_clean['words'] = workitems_clean.title.str.lower().str.split('[\\W_]+').apply(cat)\n",
    "workitems_clean.drop(['title'], axis = 1, inplace = True)"
   ]
  },
  {
   "cell_type": "markdown",
   "metadata": {},
   "source": [
    "**Test**"
   ]
  },
  {
   "cell_type": "code",
   "execution_count": null,
   "metadata": {},
   "outputs": [],
   "source": [
    "workitems_clean.head()"
   ]
  },
  {
   "cell_type": "code",
   "execution_count": null,
   "metadata": {},
   "outputs": [],
   "source": [
    "workitems_clean.words"
   ]
  },
  {
   "cell_type": "markdown",
   "metadata": {},
   "source": [
    "#### Melt state on revisions\n",
    "*Melt the state into columns, then remove columns with no active state, remove also the moved column*"
   ]
  },
  {
   "cell_type": "markdown",
   "metadata": {},
   "source": [
    "**Code**"
   ]
  },
  {
   "cell_type": "code",
   "execution_count": null,
   "metadata": {},
   "outputs": [],
   "source": [
    "revisions_clean.head()"
   ]
  },
  {
   "cell_type": "code",
   "execution_count": null,
   "metadata": {},
   "outputs": [],
   "source": [
    "revisions_pivot = revisions_clean.pivot(index = 'id', columns = 'state', values = 'changed_date').reset_index()\n",
    "revisions_pivot.head()"
   ]
  },
  {
   "cell_type": "code",
   "execution_count": null,
   "metadata": {},
   "outputs": [],
   "source": [
    "revisions_pivot[~revisions_pivot.Moved.isna()]"
   ]
  },
  {
   "cell_type": "code",
   "execution_count": null,
   "metadata": {},
   "outputs": [],
   "source": [
    "revisions_pivot = revisions_pivot[revisions_pivot.Moved.isna()]\n",
    "revisions_pivot.head()"
   ]
  },
  {
   "cell_type": "code",
   "execution_count": null,
   "metadata": {},
   "outputs": [],
   "source": [
    "revisions_pivot.drop('Moved', axis = 1, inplace = True)\n",
    "revisions_pivot.head()"
   ]
  },
  {
   "cell_type": "code",
   "execution_count": null,
   "metadata": {},
   "outputs": [],
   "source": [
    "revisions_pivot = revisions_pivot[~revisions_pivot.Active.isna()]\n",
    "revisions_pivot.head()"
   ]
  },
  {
   "cell_type": "code",
   "execution_count": null,
   "metadata": {},
   "outputs": [],
   "source": [
    "revisions_pivot = revisions_pivot[~(revisions_pivot.Closed.isna() & revisions_pivot.Resolved.isna())]\n",
    "revisions_clean.head()"
   ]
  },
  {
   "cell_type": "code",
   "execution_count": null,
   "metadata": {},
   "outputs": [],
   "source": [
    "revisions_pivot = revisions_pivot.rename(str.lower, axis = 'columns')\n",
    "revisions_pivot.head()"
   ]
  },
  {
   "cell_type": "code",
   "execution_count": null,
   "metadata": {},
   "outputs": [],
   "source": [
    "assigned = revisions_clean[revisions_clean.state == 'Active'][['id', 'assigned_to']]\n",
    "revisions_clean = pd.merge(assigned, revisions_pivot, on = ['id'], how = 'inner')"
   ]
  },
  {
   "cell_type": "code",
   "execution_count": null,
   "metadata": {},
   "outputs": [],
   "source": [
    "revisions_clean = revisions_clean[~revisions_clean.assigned_to.isna()]"
   ]
  },
  {
   "cell_type": "markdown",
   "metadata": {},
   "source": [
    "**Test**"
   ]
  },
  {
   "cell_type": "code",
   "execution_count": null,
   "metadata": {},
   "outputs": [],
   "source": [
    "revisions_clean.info()"
   ]
  },
  {
   "cell_type": "code",
   "execution_count": null,
   "metadata": {},
   "outputs": [],
   "source": [
    "len(revisions_clean[revisions_clean.closed.isna() & revisions_clean.resolved.isna()])"
   ]
  },
  {
   "cell_type": "code",
   "execution_count": null,
   "metadata": {},
   "outputs": [],
   "source": [
    "len(revisions_clean[revisions_clean.active.isna()])"
   ]
  },
  {
   "cell_type": "markdown",
   "metadata": {},
   "source": [
    "#### Merge Revisions with WorkItems\n",
    "*Merge fields from revisions and workitems, use inner join*"
   ]
  },
  {
   "cell_type": "markdown",
   "metadata": {},
   "source": [
    "**Code**"
   ]
  },
  {
   "cell_type": "code",
   "execution_count": null,
   "metadata": {},
   "outputs": [],
   "source": [
    "workitems_clean = pd.merge(workitems_clean, revisions_clean, on='id', how = 'inner')"
   ]
  },
  {
   "cell_type": "markdown",
   "metadata": {},
   "source": [
    "**Test**"
   ]
  },
  {
   "cell_type": "code",
   "execution_count": null,
   "metadata": {},
   "outputs": [],
   "source": [
    "workitems_clean.info()"
   ]
  },
  {
   "cell_type": "code",
   "execution_count": null,
   "metadata": {},
   "outputs": [],
   "source": [
    "workitems_clean.head()"
   ]
  },
  {
   "cell_type": "markdown",
   "metadata": {},
   "source": [
    "## Save"
   ]
  },
  {
   "cell_type": "code",
   "execution_count": null,
   "metadata": {},
   "outputs": [],
   "source": [
    "workitems.to_csv('workitems_master.csv', index=False)"
   ]
  }
 ],
 "metadata": {
  "kernelspec": {
   "display_name": "Python 3",
   "language": "python",
   "name": "python3"
  },
  "language_info": {
   "codemirror_mode": {
    "name": "ipython",
    "version": 3
   },
   "file_extension": ".py",
   "mimetype": "text/x-python",
   "name": "python",
   "nbconvert_exporter": "python",
   "pygments_lexer": "ipython3",
   "version": "3.7.3"
  }
 },
 "nbformat": 4,
 "nbformat_minor": 2
}
