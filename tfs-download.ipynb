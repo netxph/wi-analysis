{
 "cells": [
  {
   "cell_type": "markdown",
   "metadata": {},
   "source": [
    "# APO Work Item - Download Data"
   ]
  },
  {
   "cell_type": "code",
   "execution_count": 1,
   "metadata": {},
   "outputs": [],
   "source": [
    "import requests\n",
    "import json\n",
    "\n",
    "uid = 'vitalim'\n",
    "token = 'kv34twnazrsw2mlws7jwss3u3liy6clqokzdwkk4gwduyevnpoba'"
   ]
  },
  {
   "cell_type": "markdown",
   "metadata": {},
   "source": [
    "## Get Work Items from old TFS"
   ]
  },
  {
   "cell_type": "code",
   "execution_count": 2,
   "metadata": {},
   "outputs": [
    {
     "data": {
      "text/plain": [
       "1405"
      ]
     },
     "execution_count": 2,
     "metadata": {},
     "output_type": "execute_result"
    }
   ],
   "source": [
    "get_items_url = 'http://tfs-prod-pc:8080/tfs/primarycollection/NCA/_apis/wit/wiql?api-version=3.0'\n",
    "query = { 'query' : 'Select [System.Id] From WorkItems Where [System.WorkItemType] in (\"Change Request\", \"Bug\", \"Issue\") AND [System.AreaPath] = \"NCA\\\\Services\\\\Analytics\"'}\n",
    "headers = { 'Content-Type' : 'application/json'}\n",
    "\n",
    "r = requests.post(get_items_url, auth = (uid, token), data = json.dumps(query), headers = headers)\n",
    "result = json.loads(r.text)\n",
    "\n",
    "with open('workitems.json', 'w') as wi_json:\n",
    "    json.dump(result, wi_json)\n",
    "    \n",
    "len(result['workItems'])"
   ]
  },
  {
   "cell_type": "code",
   "execution_count": 3,
   "metadata": {},
   "outputs": [
    {
     "data": {
      "text/plain": [
       "1744"
      ]
     },
     "execution_count": 3,
     "metadata": {},
     "output_type": "execute_result"
    }
   ],
   "source": [
    "get_items_url = 'http://tfs-prod-pc:8080/tfs/primarycollection/APO/_apis/wit/wiql?api-version=3.0'\n",
    "query = { 'query' : 'Select [System.Id] From WorkItems Where [System.WorkItemType] in (\"Product Backlog Item\", \"Bug\", \"Impediment\") AND [System.TeamProject] = \"APO\"' }\n",
    "headers = { 'Content-Type' : 'application/json'}\n",
    "\n",
    "r = requests.post(get_items_url, auth = (uid, token), data = json.dumps(query), headers = headers)\n",
    "result2 = json.loads(r.text)\n",
    "\n",
    "with open('workitems2.json', 'w') as wi_json:\n",
    "    json.dump(result2, wi_json)\n",
    "    \n",
    "len(result2['workItems'])"
   ]
  },
  {
   "cell_type": "code",
   "execution_count": 15,
   "metadata": {},
   "outputs": [],
   "source": [
    "wi_list = []\n",
    "\n",
    "for item in result['workItems']:\n",
    "    r = requests.get(item['url'], auth = (uid, token), headers = headers)\n",
    "    wi_list.append(json.loads(r.text)) \n",
    "    \n",
    "wi = { \"workItems\" : wi_list }\n",
    "\n",
    "with open('wi_full.json', 'w') as wi_json:\n",
    "    json.dump(wi, wi_json)"
   ]
  },
  {
   "cell_type": "code",
   "execution_count": 16,
   "metadata": {},
   "outputs": [],
   "source": [
    "wi_list = []\n",
    "\n",
    "for item in result2['workItems']:\n",
    "    r = requests.get(item['url'], auth = (uid, token), headers = headers)\n",
    "    wi_list.append(json.loads(r.text)) \n",
    "    \n",
    "wi = { \"workItems\" : wi_list }\n",
    "\n",
    "with open('wi_full2.json', 'w') as wi_json:\n",
    "    json.dump(wi, wi_json)"
   ]
  },
  {
   "cell_type": "code",
   "execution_count": 7,
   "metadata": {},
   "outputs": [],
   "source": [
    "rev_list = []\n",
    "\n",
    "for item in result['workItems']:\n",
    "    url = f'http://tfs-prod-pc:8080/tfs/PrimaryCollection/_apis/wit/workItems/{item[\"id\"]}/revisions'\n",
    "    r = requests.get(url, auth = (uid, token), headers = headers)\n",
    "    rev_list.append(json.loads(r.text)) \n",
    "    \n",
    "rev = { \"workItems\" : rev_list }\n",
    "\n",
    "with open('rev_full.json', 'w') as rev_json:\n",
    "    json.dump(rev, rev_json)"
   ]
  },
  {
   "cell_type": "code",
   "execution_count": 8,
   "metadata": {},
   "outputs": [],
   "source": [
    "rev_list = []\n",
    "\n",
    "for item in result2['workItems']:\n",
    "    url = f'http://tfs-prod-pc:8080/tfs/PrimaryCollection/_apis/wit/workItems/{item[\"id\"]}/revisions'\n",
    "    r = requests.get(url, auth = (uid, token), headers = headers)\n",
    "    rev_list.append(json.loads(r.text)) \n",
    "    \n",
    "rev = { \"workItems\" : rev_list }\n",
    "\n",
    "with open('rev_full2.json', 'w') as rev_json:\n",
    "    json.dump(rev, rev_json)"
   ]
  },
  {
   "cell_type": "code",
   "execution_count": null,
   "metadata": {},
   "outputs": [],
   "source": []
  }
 ],
 "metadata": {
  "kernelspec": {
   "display_name": "Python 3",
   "language": "python",
   "name": "python3"
  },
  "language_info": {
   "codemirror_mode": {
    "name": "ipython",
    "version": 3
   },
   "file_extension": ".py",
   "mimetype": "text/x-python",
   "name": "python",
   "nbconvert_exporter": "python",
   "pygments_lexer": "ipython3",
   "version": "3.7.3"
  }
 },
 "nbformat": 4,
 "nbformat_minor": 2
}
